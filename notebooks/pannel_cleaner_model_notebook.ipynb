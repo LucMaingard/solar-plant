{
 "cells": [
  {
   "cell_type": "markdown",
   "metadata": {},
   "source": [
    "## Plan\n",
    "bin irradiation levels and calculate std_deviation of dc_power per irratdiation grouping\n",
    "model to predict the expected output (dc_power) given input features: \n",
    "- compare actual result with predicted result:\n",
    "    - if actual result falls below 2 std_dev of irradiation grouping: flag as faulty\n",
    "    - compare with other pannel readings at the same time (if same then cancel flagging)"
   ]
  },
  {
   "cell_type": "code",
   "execution_count": 1,
   "metadata": {},
   "outputs": [],
   "source": [
    "import numpy as np\n",
    "import pandas as pd\n",
    "#import matplotlib.pyplot as plt\n",
    "#import seaborn as sns\n",
    "\n",
    "#p1_url = 'https://github.com/LucMaingard/solar-plant/blob/main/data/raw/Plant_1_Generation_Data.csv?raw=true'\n",
    "#p2_url = 'https://github.com/LucMaingard/solar-plant/blob/main/data/raw/Plant_2_Generation_Data.csv?raw=true'\n",
    "#w1_url = 'https://github.com/LucMaingard/solar-plant/blob/main/data/raw/Plant_1_Weather_Sensor_Data.csv?raw=true'\n",
    "#w2_url = 'https://github.com/LucMaingard/solar-plant/blob/main/data/raw/Plant_2_Weather_Sensor_Data.csv?raw=true'\n",
    "p1_url = '/Users/lucmaingard/Dropbox/work/projects/solar/data/raw/Plant_1_Generation_Data.csv'\n",
    "p2_url = '/Users/lucmaingard/Dropbox/work/projects/solar/data/raw/Plant_2_Generation_Data.csv'\n",
    "w1_url = '/Users/lucmaingard/Dropbox/work/projects/solar/data/raw/Plant_1_Weather_Sensor_Data.csv'\n",
    "w2_url = '/Users/lucmaingard/Dropbox/work/projects/solar/data/raw/Plant_2_Weather_Sensor_Data.csv'\n",
    "\n",
    "# plant datasets\n",
    "df_p1 = pd.read_csv(p1_url)\n",
    "df_p2 = pd.read_csv(p2_url)\n",
    "\n",
    "# weather datasets\n",
    "df_w1 = pd.read_csv(w1_url)\n",
    "df_w2 = pd.read_csv(w2_url)"
   ]
  },
  {
   "cell_type": "code",
   "execution_count": 2,
   "metadata": {},
   "outputs": [
    {
     "data": {
      "text/plain": [
       "Index(['date_time', 'plant_id', 'source_key', 'dc_power', 'ac_power',\n",
       "       'daily_yield', 'total_yield'],\n",
       "      dtype='object')"
      ]
     },
     "execution_count": 2,
     "metadata": {},
     "output_type": "execute_result"
    }
   ],
   "source": [
    "#lowercase all column names\n",
    "df_p1.columns=df_p1.columns.str.lower()\n",
    "df_p2.columns=df_p2.columns.str.lower()\n",
    "df_w1.columns=df_w1.columns.str.lower()\n",
    "df_w2.columns=df_w2.columns.str.lower()\n",
    "df_p1.columns"
   ]
  },
  {
   "cell_type": "code",
   "execution_count": 3,
   "metadata": {},
   "outputs": [
    {
     "name": "stderr",
     "output_type": "stream",
     "text": [
      "/var/folders/jw/n6m8n_yd6mx4qqq88m7zptsh0000gn/T/ipykernel_18002/2282812233.py:4: FutureWarning: Series.dt.weekofyear and Series.dt.week have been deprecated. Please use Series.dt.isocalendar().week instead.\n",
      "  df_p1['week'] = pd.to_datetime(df_p1.date_time).dt.week\n"
     ]
    }
   ],
   "source": [
    "#convert date_time to date time features\n",
    "df_p1['time'] = pd.to_datetime(df_p1.date_time).dt.time\n",
    "df_p1['date'] = pd.to_datetime(df_p1.date_time).dt.date\n",
    "df_p1['week'] = pd.to_datetime(df_p1.date_time).dt.week\n",
    "df_p1['hour'] = pd.to_datetime(df_p1.date_time).dt.hour\n",
    "df_p1['minute'] = pd.to_datetime(df_p1.date_time).dt.minute\n",
    "\n",
    "df_w1['time'] = pd.to_datetime(df_w1.date_time).dt.time\n",
    "df_w1['date'] = pd.to_datetime(df_w1.date_time).dt.date"
   ]
  },
  {
   "cell_type": "code",
   "execution_count": 4,
   "metadata": {},
   "outputs": [],
   "source": [
    "df_p1.date_time = pd.to_datetime(df_p1.date_time, format='%d-%m-%Y %H:%M')\n",
    "df_w1.date_time = pd.to_datetime(df_w1.date_time, format='%Y-%m-%d %H:%M')"
   ]
  },
  {
   "cell_type": "code",
   "execution_count": 5,
   "metadata": {},
   "outputs": [
    {
     "data": {
      "text/html": [
       "<div>\n",
       "<style scoped>\n",
       "    .dataframe tbody tr th:only-of-type {\n",
       "        vertical-align: middle;\n",
       "    }\n",
       "\n",
       "    .dataframe tbody tr th {\n",
       "        vertical-align: top;\n",
       "    }\n",
       "\n",
       "    .dataframe thead th {\n",
       "        text-align: right;\n",
       "    }\n",
       "</style>\n",
       "<table border=\"1\" class=\"dataframe\">\n",
       "  <thead>\n",
       "    <tr style=\"text-align: right;\">\n",
       "      <th></th>\n",
       "      <th>date_time_x</th>\n",
       "      <th>source_key</th>\n",
       "      <th>dc_power</th>\n",
       "      <th>ac_power</th>\n",
       "      <th>daily_yield</th>\n",
       "      <th>total_yield</th>\n",
       "      <th>time</th>\n",
       "      <th>date</th>\n",
       "      <th>week</th>\n",
       "      <th>hour</th>\n",
       "      <th>minute</th>\n",
       "      <th>date_time_y</th>\n",
       "      <th>ambient_temperature</th>\n",
       "      <th>module_temperature</th>\n",
       "      <th>irradiation</th>\n",
       "    </tr>\n",
       "  </thead>\n",
       "  <tbody>\n",
       "    <tr>\n",
       "      <th>0</th>\n",
       "      <td>2020-05-15</td>\n",
       "      <td>1BY6WEcLGh8j5v7</td>\n",
       "      <td>0.0</td>\n",
       "      <td>0.0</td>\n",
       "      <td>0.0</td>\n",
       "      <td>6259559.0</td>\n",
       "      <td>00:00:00</td>\n",
       "      <td>2020-05-15</td>\n",
       "      <td>20</td>\n",
       "      <td>0</td>\n",
       "      <td>0</td>\n",
       "      <td>2020-05-15</td>\n",
       "      <td>25.184316</td>\n",
       "      <td>22.857507</td>\n",
       "      <td>0.0</td>\n",
       "    </tr>\n",
       "    <tr>\n",
       "      <th>1</th>\n",
       "      <td>2020-05-15</td>\n",
       "      <td>1IF53ai7Xc0U56Y</td>\n",
       "      <td>0.0</td>\n",
       "      <td>0.0</td>\n",
       "      <td>0.0</td>\n",
       "      <td>6183645.0</td>\n",
       "      <td>00:00:00</td>\n",
       "      <td>2020-05-15</td>\n",
       "      <td>20</td>\n",
       "      <td>0</td>\n",
       "      <td>0</td>\n",
       "      <td>2020-05-15</td>\n",
       "      <td>25.184316</td>\n",
       "      <td>22.857507</td>\n",
       "      <td>0.0</td>\n",
       "    </tr>\n",
       "    <tr>\n",
       "      <th>2</th>\n",
       "      <td>2020-05-15</td>\n",
       "      <td>3PZuoBAID5Wc2HD</td>\n",
       "      <td>0.0</td>\n",
       "      <td>0.0</td>\n",
       "      <td>0.0</td>\n",
       "      <td>6987759.0</td>\n",
       "      <td>00:00:00</td>\n",
       "      <td>2020-05-15</td>\n",
       "      <td>20</td>\n",
       "      <td>0</td>\n",
       "      <td>0</td>\n",
       "      <td>2020-05-15</td>\n",
       "      <td>25.184316</td>\n",
       "      <td>22.857507</td>\n",
       "      <td>0.0</td>\n",
       "    </tr>\n",
       "    <tr>\n",
       "      <th>3</th>\n",
       "      <td>2020-05-15</td>\n",
       "      <td>7JYdWkrLSPkdwr4</td>\n",
       "      <td>0.0</td>\n",
       "      <td>0.0</td>\n",
       "      <td>0.0</td>\n",
       "      <td>7602960.0</td>\n",
       "      <td>00:00:00</td>\n",
       "      <td>2020-05-15</td>\n",
       "      <td>20</td>\n",
       "      <td>0</td>\n",
       "      <td>0</td>\n",
       "      <td>2020-05-15</td>\n",
       "      <td>25.184316</td>\n",
       "      <td>22.857507</td>\n",
       "      <td>0.0</td>\n",
       "    </tr>\n",
       "    <tr>\n",
       "      <th>4</th>\n",
       "      <td>2020-05-15</td>\n",
       "      <td>McdE0feGgRqW7Ca</td>\n",
       "      <td>0.0</td>\n",
       "      <td>0.0</td>\n",
       "      <td>0.0</td>\n",
       "      <td>7158964.0</td>\n",
       "      <td>00:00:00</td>\n",
       "      <td>2020-05-15</td>\n",
       "      <td>20</td>\n",
       "      <td>0</td>\n",
       "      <td>0</td>\n",
       "      <td>2020-05-15</td>\n",
       "      <td>25.184316</td>\n",
       "      <td>22.857507</td>\n",
       "      <td>0.0</td>\n",
       "    </tr>\n",
       "  </tbody>\n",
       "</table>\n",
       "</div>"
      ],
      "text/plain": [
       "  date_time_x       source_key  dc_power  ac_power  daily_yield  total_yield  \\\n",
       "0  2020-05-15  1BY6WEcLGh8j5v7       0.0       0.0          0.0    6259559.0   \n",
       "1  2020-05-15  1IF53ai7Xc0U56Y       0.0       0.0          0.0    6183645.0   \n",
       "2  2020-05-15  3PZuoBAID5Wc2HD       0.0       0.0          0.0    6987759.0   \n",
       "3  2020-05-15  7JYdWkrLSPkdwr4       0.0       0.0          0.0    7602960.0   \n",
       "4  2020-05-15  McdE0feGgRqW7Ca       0.0       0.0          0.0    7158964.0   \n",
       "\n",
       "       time        date  week  hour  minute date_time_y  ambient_temperature  \\\n",
       "0  00:00:00  2020-05-15    20     0       0  2020-05-15            25.184316   \n",
       "1  00:00:00  2020-05-15    20     0       0  2020-05-15            25.184316   \n",
       "2  00:00:00  2020-05-15    20     0       0  2020-05-15            25.184316   \n",
       "3  00:00:00  2020-05-15    20     0       0  2020-05-15            25.184316   \n",
       "4  00:00:00  2020-05-15    20     0       0  2020-05-15            25.184316   \n",
       "\n",
       "   module_temperature  irradiation  \n",
       "0           22.857507          0.0  \n",
       "1           22.857507          0.0  \n",
       "2           22.857507          0.0  \n",
       "3           22.857507          0.0  \n",
       "4           22.857507          0.0  "
      ]
     },
     "execution_count": 5,
     "metadata": {},
     "output_type": "execute_result"
    }
   ],
   "source": [
    "#left join df's \n",
    "df_solar = pd.merge(df_p1.drop(columns = ['plant_id']), df_w1.drop(columns = ['plant_id', 'source_key']), on=('date', 'time'), how='left')\n",
    "df_solar.head()"
   ]
  },
  {
   "cell_type": "code",
   "execution_count": 6,
   "metadata": {},
   "outputs": [],
   "source": [
    "df_solar['dc_irradiation'] = df_solar['dc_power']/(df_solar['irradiation']+0.00000001)"
   ]
  },
  {
   "cell_type": "code",
   "execution_count": 7,
   "metadata": {},
   "outputs": [
    {
     "data": {
      "text/html": [
       "<div>\n",
       "<style scoped>\n",
       "    .dataframe tbody tr th:only-of-type {\n",
       "        vertical-align: middle;\n",
       "    }\n",
       "\n",
       "    .dataframe tbody tr th {\n",
       "        vertical-align: top;\n",
       "    }\n",
       "\n",
       "    .dataframe thead th {\n",
       "        text-align: right;\n",
       "    }\n",
       "</style>\n",
       "<table border=\"1\" class=\"dataframe\">\n",
       "  <thead>\n",
       "    <tr style=\"text-align: right;\">\n",
       "      <th></th>\n",
       "      <th>date_time_x</th>\n",
       "      <th>source_key</th>\n",
       "      <th>dc_power</th>\n",
       "      <th>ac_power</th>\n",
       "      <th>daily_yield</th>\n",
       "      <th>total_yield</th>\n",
       "      <th>time</th>\n",
       "      <th>date</th>\n",
       "      <th>week</th>\n",
       "      <th>hour</th>\n",
       "      <th>minute</th>\n",
       "      <th>date_time_y</th>\n",
       "      <th>ambient_temperature</th>\n",
       "      <th>module_temperature</th>\n",
       "      <th>irradiation</th>\n",
       "      <th>dc_irradiation</th>\n",
       "    </tr>\n",
       "  </thead>\n",
       "  <tbody>\n",
       "    <tr>\n",
       "      <th>0</th>\n",
       "      <td>2020-05-15</td>\n",
       "      <td>1BY6WEcLGh8j5v7</td>\n",
       "      <td>0.0</td>\n",
       "      <td>0.0</td>\n",
       "      <td>0.0</td>\n",
       "      <td>6259559.0</td>\n",
       "      <td>00:00:00</td>\n",
       "      <td>2020-05-15</td>\n",
       "      <td>20</td>\n",
       "      <td>0</td>\n",
       "      <td>0</td>\n",
       "      <td>2020-05-15</td>\n",
       "      <td>25.184316</td>\n",
       "      <td>22.857507</td>\n",
       "      <td>0.0</td>\n",
       "      <td>0.0</td>\n",
       "    </tr>\n",
       "    <tr>\n",
       "      <th>1</th>\n",
       "      <td>2020-05-15</td>\n",
       "      <td>1IF53ai7Xc0U56Y</td>\n",
       "      <td>0.0</td>\n",
       "      <td>0.0</td>\n",
       "      <td>0.0</td>\n",
       "      <td>6183645.0</td>\n",
       "      <td>00:00:00</td>\n",
       "      <td>2020-05-15</td>\n",
       "      <td>20</td>\n",
       "      <td>0</td>\n",
       "      <td>0</td>\n",
       "      <td>2020-05-15</td>\n",
       "      <td>25.184316</td>\n",
       "      <td>22.857507</td>\n",
       "      <td>0.0</td>\n",
       "      <td>0.0</td>\n",
       "    </tr>\n",
       "    <tr>\n",
       "      <th>2</th>\n",
       "      <td>2020-05-15</td>\n",
       "      <td>3PZuoBAID5Wc2HD</td>\n",
       "      <td>0.0</td>\n",
       "      <td>0.0</td>\n",
       "      <td>0.0</td>\n",
       "      <td>6987759.0</td>\n",
       "      <td>00:00:00</td>\n",
       "      <td>2020-05-15</td>\n",
       "      <td>20</td>\n",
       "      <td>0</td>\n",
       "      <td>0</td>\n",
       "      <td>2020-05-15</td>\n",
       "      <td>25.184316</td>\n",
       "      <td>22.857507</td>\n",
       "      <td>0.0</td>\n",
       "      <td>0.0</td>\n",
       "    </tr>\n",
       "    <tr>\n",
       "      <th>3</th>\n",
       "      <td>2020-05-15</td>\n",
       "      <td>7JYdWkrLSPkdwr4</td>\n",
       "      <td>0.0</td>\n",
       "      <td>0.0</td>\n",
       "      <td>0.0</td>\n",
       "      <td>7602960.0</td>\n",
       "      <td>00:00:00</td>\n",
       "      <td>2020-05-15</td>\n",
       "      <td>20</td>\n",
       "      <td>0</td>\n",
       "      <td>0</td>\n",
       "      <td>2020-05-15</td>\n",
       "      <td>25.184316</td>\n",
       "      <td>22.857507</td>\n",
       "      <td>0.0</td>\n",
       "      <td>0.0</td>\n",
       "    </tr>\n",
       "    <tr>\n",
       "      <th>4</th>\n",
       "      <td>2020-05-15</td>\n",
       "      <td>McdE0feGgRqW7Ca</td>\n",
       "      <td>0.0</td>\n",
       "      <td>0.0</td>\n",
       "      <td>0.0</td>\n",
       "      <td>7158964.0</td>\n",
       "      <td>00:00:00</td>\n",
       "      <td>2020-05-15</td>\n",
       "      <td>20</td>\n",
       "      <td>0</td>\n",
       "      <td>0</td>\n",
       "      <td>2020-05-15</td>\n",
       "      <td>25.184316</td>\n",
       "      <td>22.857507</td>\n",
       "      <td>0.0</td>\n",
       "      <td>0.0</td>\n",
       "    </tr>\n",
       "  </tbody>\n",
       "</table>\n",
       "</div>"
      ],
      "text/plain": [
       "  date_time_x       source_key  dc_power  ac_power  daily_yield  total_yield  \\\n",
       "0  2020-05-15  1BY6WEcLGh8j5v7       0.0       0.0          0.0    6259559.0   \n",
       "1  2020-05-15  1IF53ai7Xc0U56Y       0.0       0.0          0.0    6183645.0   \n",
       "2  2020-05-15  3PZuoBAID5Wc2HD       0.0       0.0          0.0    6987759.0   \n",
       "3  2020-05-15  7JYdWkrLSPkdwr4       0.0       0.0          0.0    7602960.0   \n",
       "4  2020-05-15  McdE0feGgRqW7Ca       0.0       0.0          0.0    7158964.0   \n",
       "\n",
       "       time        date  week  hour  minute date_time_y  ambient_temperature  \\\n",
       "0  00:00:00  2020-05-15    20     0       0  2020-05-15            25.184316   \n",
       "1  00:00:00  2020-05-15    20     0       0  2020-05-15            25.184316   \n",
       "2  00:00:00  2020-05-15    20     0       0  2020-05-15            25.184316   \n",
       "3  00:00:00  2020-05-15    20     0       0  2020-05-15            25.184316   \n",
       "4  00:00:00  2020-05-15    20     0       0  2020-05-15            25.184316   \n",
       "\n",
       "   module_temperature  irradiation  dc_irradiation  \n",
       "0           22.857507          0.0             0.0  \n",
       "1           22.857507          0.0             0.0  \n",
       "2           22.857507          0.0             0.0  \n",
       "3           22.857507          0.0             0.0  \n",
       "4           22.857507          0.0             0.0  "
      ]
     },
     "execution_count": 7,
     "metadata": {},
     "output_type": "execute_result"
    }
   ],
   "source": [
    "df_solar.head()"
   ]
  },
  {
   "cell_type": "code",
   "execution_count": 8,
   "metadata": {},
   "outputs": [
    {
     "name": "stderr",
     "output_type": "stream",
     "text": [
      "/Users/lucmaingard/opt/miniconda3/envs/fast_api/lib/python3.9/site-packages/xgboost/compat.py:36: FutureWarning: pandas.Int64Index is deprecated and will be removed from pandas in a future version. Use pandas.Index with the appropriate dtype instead.\n",
      "  from pandas import MultiIndex, Int64Index\n"
     ]
    }
   ],
   "source": [
    "from xgboost import XGBRegressor \n",
    "\n",
    "xgb = XGBRegressor()"
   ]
  },
  {
   "cell_type": "code",
   "execution_count": 9,
   "metadata": {},
   "outputs": [],
   "source": [
    "cols = [\n",
    "    'hour',\n",
    "    'minute',\n",
    "    'ambient_temperature',\n",
    "    'module_temperature',\n",
    "    'irradiation'\n",
    "]\n",
    "target = ['dc_power']\n",
    "\n",
    "df = df_solar[target+cols].copy()"
   ]
  },
  {
   "cell_type": "code",
   "execution_count": 10,
   "metadata": {},
   "outputs": [],
   "source": [
    "#df.shape"
   ]
  },
  {
   "cell_type": "code",
   "execution_count": 11,
   "metadata": {},
   "outputs": [
    {
     "data": {
      "text/plain": [
       "'df=df.dropna()\\ndf=df[df.dc_power>0]\\ndf.shape'"
      ]
     },
     "execution_count": 11,
     "metadata": {},
     "output_type": "execute_result"
    }
   ],
   "source": [
    "'''df=df.dropna()\n",
    "df=df[df.dc_power>0]\n",
    "df.shape'''"
   ]
  },
  {
   "cell_type": "code",
   "execution_count": 12,
   "metadata": {},
   "outputs": [],
   "source": [
    "#df.iloc[:,1:].head()"
   ]
  },
  {
   "cell_type": "code",
   "execution_count": 13,
   "metadata": {},
   "outputs": [],
   "source": [
    "from sklearn.model_selection import train_test_split\n",
    "\n",
    "X = df.iloc[:,1:]\n",
    "y = df['dc_power']\n",
    "\n",
    "X_train, X_test, y_train, y_test = train_test_split(X, y, test_size=0.3)\n",
    "X_val, X_test, y_val, y_test = train_test_split(X_test, y_test, test_size=0.5)"
   ]
  },
  {
   "cell_type": "code",
   "execution_count": 14,
   "metadata": {},
   "outputs": [
    {
     "data": {
      "text/plain": [
       "((48144, 5), (10317, 5), (48144,), (10317,))"
      ]
     },
     "execution_count": 14,
     "metadata": {},
     "output_type": "execute_result"
    }
   ],
   "source": [
    "X_train.shape, X_test.shape, y_train.shape, y_test.shape"
   ]
  },
  {
   "cell_type": "code",
   "execution_count": 15,
   "metadata": {},
   "outputs": [
    {
     "name": "stderr",
     "output_type": "stream",
     "text": [
      "/Users/lucmaingard/opt/miniconda3/envs/fast_api/lib/python3.9/site-packages/xgboost/data.py:250: FutureWarning: pandas.Int64Index is deprecated and will be removed from pandas in a future version. Use pandas.Index with the appropriate dtype instead.\n",
      "  elif isinstance(data.columns, (pd.Int64Index, pd.RangeIndex)):\n"
     ]
    },
    {
     "data": {
      "text/plain": [
       "(346.1398777905292, 720061.9917136995, 848.5646656052204)"
      ]
     },
     "execution_count": 15,
     "metadata": {},
     "output_type": "execute_result"
    }
   ],
   "source": [
    "from sklearn.metrics import mean_squared_error, mean_absolute_error\n",
    "import math\n",
    "\n",
    "xgb.fit(X_train, y_train)\n",
    "\n",
    "preds = xgb.predict(X_test)\n",
    "\n",
    "mae = mean_absolute_error(y_test, preds)\n",
    "mse = mean_squared_error(y_test, preds)\n",
    "rmse = math.sqrt(mse)\n",
    "\n",
    "mae, mse, rmse"
   ]
  },
  {
   "cell_type": "code",
   "execution_count": 16,
   "metadata": {},
   "outputs": [],
   "source": [
    "import sys\n",
    "import time\n",
    "# function to train xgb model over n train_test_splits\n",
    "def train_n_fols(model, X, y, n):\n",
    "\n",
    "    start_time = time.time()\n",
    "\n",
    "    mae = 0\n",
    "    mse = 0\n",
    "    rmse = 0\n",
    "\n",
    "    for i in range(n):\n",
    "\n",
    "        X = df.iloc[:,1:]\n",
    "        y = df['dc_power']\n",
    "\n",
    "        X_train, X_test, y_train, y_test = train_test_split(X, y, test_size=0.3, random_state=i)\n",
    "        X_val, X_test, y_val, y_test = train_test_split(X_test, y_test, test_size=0.5, random_state=i)\n",
    "\n",
    "        model.fit(X_train, y_train)\n",
    "\n",
    "        preds = model.predict(X_test)\n",
    "\n",
    "        mae += mean_absolute_error(y_test, preds)\n",
    "        mse += mean_squared_error(y_test, preds)\n",
    "        rmse += math.sqrt(mse)\n",
    "        print(f\"trained {i} folds\", end='\\r')\n",
    "    \n",
    "    mae=mae/n\n",
    "    mse=mse/n\n",
    "    rmse=rmse/n\n",
    "\n",
    "    print(\"--- %s seconds total training time ---\" % (time.time() - start_time))\n",
    "\n",
    "    return mae, mse, rmse\n"
   ]
  },
  {
   "cell_type": "code",
   "execution_count": 17,
   "metadata": {},
   "outputs": [],
   "source": [
    "#mae, mse, rmse = train_n_fols(xgb, X, y, n=50)"
   ]
  },
  {
   "cell_type": "code",
   "execution_count": 18,
   "metadata": {},
   "outputs": [],
   "source": [
    "#mae, mse, rmse"
   ]
  },
  {
   "cell_type": "code",
   "execution_count": 19,
   "metadata": {},
   "outputs": [],
   "source": [
    "#df.describe()"
   ]
  },
  {
   "cell_type": "code",
   "execution_count": 20,
   "metadata": {},
   "outputs": [
    {
     "data": {
      "text/plain": [
       "(4024.3387680094415, 3927.6293934827318)"
      ]
     },
     "execution_count": 20,
     "metadata": {},
     "output_type": "execute_result"
    }
   ],
   "source": [
    "import statistics\n",
    "statistics.stdev(y_test), statistics.stdev(pd.Series(preds))"
   ]
  },
  {
   "cell_type": "code",
   "execution_count": 21,
   "metadata": {},
   "outputs": [],
   "source": [
    "one_stdev_df_dc_irr = statistics.stdev(df_solar.dc_irradiation.dropna())\n",
    "two_stdev_df_dc_irr = one_stdev_df_dc_irr*2\n",
    "three_stdev_df_dc_irr = one_stdev_df_dc_irr*3\n",
    "\n",
    "data_list = [one_stdev_df_dc_irr,two_stdev_df_dc_irr,three_stdev_df_dc_irr]\n",
    "column_list = ['one_stdev_df_dc_irr','two_stdev_df_dc_irr','three_stdev_df_dc_irr']"
   ]
  },
  {
   "cell_type": "code",
   "execution_count": 22,
   "metadata": {},
   "outputs": [],
   "source": [
    "#create processed stats csv \n",
    "# (stdevs of one_stdev_df_dc_irr) + add any relavent data (medians/means ofor imputation)\n",
    "\n",
    "# create data frame \n",
    "def create_df(data_list, column_list):\n",
    "    df = pd.DataFrame([data_list], columns=column_list)\n",
    "\n",
    "    return df\n"
   ]
  },
  {
   "cell_type": "code",
   "execution_count": 23,
   "metadata": {},
   "outputs": [],
   "source": [
    "import os\n",
    "from datetime import datetime\n",
    "\n",
    "path = \"/Users/lucmaingard/Dropbox/work/projects/solar/data/processed_stats\"\n",
    "\n",
    "# write dataframe to processed_stats dir in data dir\n",
    "def write_df(df,path):\n",
    "\n",
    "    string_dt = datetime.now().strftime(\"%m.%d.%Y%H:%M:%S\")\n",
    "    \n",
    "    if not os.path.exists(path):\n",
    "      \n",
    "        # if the demo_folder directory is not present \n",
    "        # then create it.\n",
    "        os.makedirs(path)\n",
    "\n",
    "    df.to_csv(path+\"/\"+string_dt+\".csv\")\n",
    "\n",
    "    return\n",
    "    "
   ]
  },
  {
   "cell_type": "code",
   "execution_count": 24,
   "metadata": {},
   "outputs": [
    {
     "data": {
      "text/plain": [
       "'12.01.202210:55:14'"
      ]
     },
     "execution_count": 24,
     "metadata": {},
     "output_type": "execute_result"
    }
   ],
   "source": [
    "string_dt = datetime.now().strftime(\"%m.%d.%Y%H:%M:%S\")\n",
    "#datetime.strptime(string_dt, \"%m/%d/%Y%H:%M:%S\")\n",
    "string_dt"
   ]
  },
  {
   "cell_type": "code",
   "execution_count": 25,
   "metadata": {},
   "outputs": [
    {
     "data": {
      "text/plain": [
       "'processed_stats_df = create_df(data_list, column_list)\\n#write_df()\\nprocessed_stats_df.head()'"
      ]
     },
     "execution_count": 25,
     "metadata": {},
     "output_type": "execute_result"
    }
   ],
   "source": [
    "'''processed_stats_df = create_df(data_list, column_list)\n",
    "#write_df()\n",
    "processed_stats_df.head()'''"
   ]
  },
  {
   "cell_type": "code",
   "execution_count": 26,
   "metadata": {},
   "outputs": [
    {
     "data": {
      "text/plain": [
       "'plt.scatter(df_solar.dc_power[df_solar.dc_power>0], df_solar.irradiation[df_solar.dc_power>0])\\nplt.show()'"
      ]
     },
     "execution_count": 26,
     "metadata": {},
     "output_type": "execute_result"
    }
   ],
   "source": [
    "'''plt.scatter(df_solar.dc_power[df_solar.dc_power>0], df_solar.irradiation[df_solar.dc_power>0])\n",
    "plt.show()'''"
   ]
  },
  {
   "cell_type": "code",
   "execution_count": 27,
   "metadata": {},
   "outputs": [
    {
     "data": {
      "text/plain": [
       "count    24620.000000\n",
       "mean         0.438595\n",
       "std          0.292006\n",
       "min          0.001575\n",
       "25%          0.165297\n",
       "50%          0.430854\n",
       "75%          0.662152\n",
       "max          1.221652\n",
       "Name: irradiation, dtype: float64"
      ]
     },
     "execution_count": 27,
     "metadata": {},
     "output_type": "execute_result"
    }
   ],
   "source": [
    "df_solar.irradiation[df_solar.dc_power>0].describe()"
   ]
  },
  {
   "cell_type": "code",
   "execution_count": 28,
   "metadata": {},
   "outputs": [
    {
     "data": {
      "text/plain": [
       "'\\n# creates bins to bin irradiation readings\\ndef create_irr_bins():\\n    bin = 0.001\\n    add = 0.001\\n    bins = []\\n\\n    for i in range(0,10):\\n\\n        bins.append(round(bin, 4))\\n        bin+=add\\n\\n    for i in range(0,10):\\n        bins.append(round(bin, 4))\\n        bin+=(add*10)\\n\\n    while bin<=1.3:\\n        bins.append(round(bin, 4))\\n        bin+=(add*100)\\n    \\n    return bins'"
      ]
     },
     "execution_count": 28,
     "metadata": {},
     "output_type": "execute_result"
    }
   ],
   "source": [
    "'''\n",
    "# creates bins to bin irradiation readings\n",
    "def create_irr_bins():\n",
    "    bin = 0.001\n",
    "    add = 0.001\n",
    "    bins = []\n",
    "\n",
    "    for i in range(0,10):\n",
    "\n",
    "        bins.append(round(bin, 4))\n",
    "        bin+=add\n",
    "\n",
    "    for i in range(0,10):\n",
    "        bins.append(round(bin, 4))\n",
    "        bin+=(add*10)\n",
    "\n",
    "    while bin<=1.3:\n",
    "        bins.append(round(bin, 4))\n",
    "        bin+=(add*100)\n",
    "    \n",
    "    return bins'''\n",
    "\n",
    "\n"
   ]
  },
  {
   "cell_type": "code",
   "execution_count": 29,
   "metadata": {},
   "outputs": [
    {
     "data": {
      "text/plain": [
       "'bins = create_irr_bins()'"
      ]
     },
     "execution_count": 29,
     "metadata": {},
     "output_type": "execute_result"
    }
   ],
   "source": [
    "'''bins = create_irr_bins()'''"
   ]
  },
  {
   "cell_type": "code",
   "execution_count": 30,
   "metadata": {},
   "outputs": [
    {
     "data": {
      "text/plain": [
       "\"df_solar['test'] = pd.cut(x=df_solar['irradiation'], bins=bins)\\n\\ndf_solar[df_solar.dc_power>300].head()\""
      ]
     },
     "execution_count": 30,
     "metadata": {},
     "output_type": "execute_result"
    }
   ],
   "source": [
    "#bins = [0.001, 0.002, 0.003, 100]\n",
    "#labels = ['C', 'B', 'A']\n",
    "'''df_solar['test'] = pd.cut(x=df_solar['irradiation'], bins=bins)\n",
    "\n",
    "df_solar[df_solar.dc_power>300].head()'''"
   ]
  },
  {
   "cell_type": "code",
   "execution_count": 31,
   "metadata": {},
   "outputs": [
    {
     "data": {
      "text/plain": [
       "\"irr_groups_stdev = df_solar.groupby(by='test')['dc_power'].std()*2\\nwrite_df(irr_groups_stdev,path)\""
      ]
     },
     "execution_count": 31,
     "metadata": {},
     "output_type": "execute_result"
    }
   ],
   "source": [
    "'''irr_groups_stdev = df_solar.groupby(by='test')['dc_power'].std()*2\n",
    "write_df(irr_groups_stdev,path)'''"
   ]
  },
  {
   "cell_type": "code",
   "execution_count": 32,
   "metadata": {},
   "outputs": [],
   "source": [
    "###y.iloc[0]"
   ]
  },
  {
   "cell_type": "code",
   "execution_count": 33,
   "metadata": {},
   "outputs": [],
   "source": [
    "#X_val.iloc[1:2]"
   ]
  },
  {
   "cell_type": "code",
   "execution_count": 87,
   "metadata": {},
   "outputs": [
    {
     "data": {
      "text/html": [
       "<div>\n",
       "<style scoped>\n",
       "    .dataframe tbody tr th:only-of-type {\n",
       "        vertical-align: middle;\n",
       "    }\n",
       "\n",
       "    .dataframe tbody tr th {\n",
       "        vertical-align: top;\n",
       "    }\n",
       "\n",
       "    .dataframe thead th {\n",
       "        text-align: right;\n",
       "    }\n",
       "</style>\n",
       "<table border=\"1\" class=\"dataframe\">\n",
       "  <thead>\n",
       "    <tr style=\"text-align: right;\">\n",
       "      <th></th>\n",
       "      <th>hour</th>\n",
       "      <th>minute</th>\n",
       "      <th>ambient_temperature</th>\n",
       "      <th>module_temperature</th>\n",
       "      <th>irradiation</th>\n",
       "    </tr>\n",
       "  </thead>\n",
       "  <tbody>\n",
       "    <tr>\n",
       "      <th>67464</th>\n",
       "      <td>9</td>\n",
       "      <td>0</td>\n",
       "      <td>24.688424</td>\n",
       "      <td>34.112601</td>\n",
       "      <td>0.338133</td>\n",
       "    </tr>\n",
       "  </tbody>\n",
       "</table>\n",
       "</div>"
      ],
      "text/plain": [
       "       hour  minute  ambient_temperature  module_temperature  irradiation\n",
       "67464     9       0            24.688424           34.112601     0.338133"
      ]
     },
     "execution_count": 87,
     "metadata": {},
     "output_type": "execute_result"
    }
   ],
   "source": [
    "X_val.iloc[800:801]"
   ]
  },
  {
   "cell_type": "code",
   "execution_count": 88,
   "metadata": {},
   "outputs": [
    {
     "data": {
      "text/plain": [
       "4953.241"
      ]
     },
     "execution_count": 88,
     "metadata": {},
     "output_type": "execute_result"
    }
   ],
   "source": [
    "xgb.predict(X_val.iloc[800:801])[0]"
   ]
  },
  {
   "cell_type": "code",
   "execution_count": 35,
   "metadata": {},
   "outputs": [
    {
     "data": {
      "text/plain": [
       "'def predict(inference_object, model):\\n    \\n    prediction = model.predict(inference_object)\\n\\n    return prediction'"
      ]
     },
     "execution_count": 35,
     "metadata": {},
     "output_type": "execute_result"
    }
   ],
   "source": [
    "'''def predict(inference_object, model):\n",
    "    \n",
    "    prediction = model.predict(inference_object)\n",
    "\n",
    "    return prediction'''"
   ]
  },
  {
   "cell_type": "code",
   "execution_count": 36,
   "metadata": {},
   "outputs": [],
   "source": [
    "import pandas as pd"
   ]
  },
  {
   "cell_type": "code",
   "execution_count": 37,
   "metadata": {},
   "outputs": [],
   "source": [
    "test = {\n",
    "    'hour':11,\n",
    "    'minute':30,\n",
    "    'ambient_temperature':24.4,\n",
    "    'module_temperature':22.4,\n",
    "    'irradiation':0.3,\n",
    "    'dc_power':500\n",
    "}\n",
    "\n",
    "X2 = pd.json_normalize(test)\n",
    "X = X2.iloc[:,:-1]\n",
    "y = X2['dc_power']"
   ]
  },
  {
   "cell_type": "code",
   "execution_count": 38,
   "metadata": {},
   "outputs": [],
   "source": [
    "#X2.iloc[:,:-1] , X2.iloc[:,-1], test['dc_power']"
   ]
  },
  {
   "cell_type": "code",
   "execution_count": 39,
   "metadata": {},
   "outputs": [
    {
     "data": {
      "text/plain": [
       "'prediction = xgb.predict(X)[0]\\nprediction'"
      ]
     },
     "execution_count": 39,
     "metadata": {},
     "output_type": "execute_result"
    }
   ],
   "source": [
    "#test = pd.json_normalize(X2)\n",
    "\n",
    "'''prediction = xgb.predict(X)[0]\n",
    "prediction'''\n"
   ]
  },
  {
   "cell_type": "code",
   "execution_count": 40,
   "metadata": {},
   "outputs": [
    {
     "data": {
      "text/plain": [
       "\"prediction[0], y\\nif (float(y-prediction) > float(mae*2)):\\n    print('maintenance needed')\\nelse:\\n    print('panel is performing well')\""
      ]
     },
     "execution_count": 40,
     "metadata": {},
     "output_type": "execute_result"
    }
   ],
   "source": [
    "'''prediction[0], y\n",
    "if (float(y-prediction) > float(mae*2)):\n",
    "    print('maintenance needed')\n",
    "else:\n",
    "    print('panel is performing well')'''"
   ]
  },
  {
   "cell_type": "code",
   "execution_count": 41,
   "metadata": {},
   "outputs": [],
   "source": [
    "from fastapi import FastAPI\n",
    "\n",
    "# Initialize FastAPI app\n",
    "app = FastAPI()"
   ]
  },
  {
   "cell_type": "code",
   "execution_count": 42,
   "metadata": {},
   "outputs": [
    {
     "data": {
      "text/plain": [
       "\"pd.json_normalize(test)['dc_power']\""
      ]
     },
     "execution_count": 42,
     "metadata": {},
     "output_type": "execute_result"
    }
   ],
   "source": [
    "'''pd.json_normalize(test)['dc_power']'''"
   ]
  },
  {
   "cell_type": "code",
   "execution_count": 43,
   "metadata": {},
   "outputs": [],
   "source": [
    "def get_model_response(input_object, model, mae):\n",
    "\n",
    "    # converts json into df\n",
    "    X2 = pd.json_normalize(input_object)\n",
    "    X = X2.iloc[:,:-1]\n",
    "    true_dc_power = X2['dc_power']\n",
    "    prediction = model.predict(X)[0]\n",
    "    \n",
    "    # if the true value is below 2 stdeviations of the expected value, flag as \n",
    "    if float(true_dc_power-prediction) >= float(mae*2):\n",
    "        label = \"Maintenance required\"\n",
    "    else:\n",
    "        label = \"Panel is performing well\"\n",
    "\n",
    "    '''return {\n",
    "        'label': str(label),\n",
    "        'expected_dc_power_gen': prediction,\n",
    "        'actual_dc_power_gen': true_dc_power\n",
    "    }'''\n",
    "    return prediction"
   ]
  },
  {
   "cell_type": "code",
   "execution_count": null,
   "metadata": {},
   "outputs": [],
   "source": []
  },
  {
   "cell_type": "code",
   "execution_count": 70,
   "metadata": {},
   "outputs": [
    {
     "data": {
      "text/plain": [
       "'2022-12-01 12:02:00.756883'"
      ]
     },
     "execution_count": 70,
     "metadata": {},
     "output_type": "execute_result"
    }
   ],
   "source": [
    "import datetime \n",
    "str(datetime.datetime.now())"
   ]
  },
  {
   "cell_type": "code",
   "execution_count": 76,
   "metadata": {},
   "outputs": [],
   "source": [
    "MODEL_DIR_PATH = '/Users/lucmaingard/Dropbox/work/projects/solar/models/'\n",
    "# Save as JSON file\n",
    "if not os.path.exists(MODEL_DIR_PATH):\n",
    "      \n",
    "    # if the demo_folder directory is not present \n",
    "    # then create it.\n",
    "    os.makedirs(MODEL_DIR_PATH)\n",
    "\n",
    "current_timestamp = str(datetime.datetime.now()).replace(\" \",\"\")\n",
    "VERSIONING_PATH = MODEL_DIR_PATH+current_timestamp+'/'\n",
    "\n",
    "if not os.path.exists(VERSIONING_PATH):\n",
    "      \n",
    "    # if the demo_folder directory is not present \n",
    "    # then create it.\n",
    "    os.makedirs(VERSIONING_PATH)\n",
    "\n",
    "\n",
    "xgb.save_model(MODEL_DIR_PATH+\"model.json\")\n",
    "xgb.save_model(VERSIONING_PATH+\"model.json\")\n"
   ]
  },
  {
   "cell_type": "code",
   "execution_count": 78,
   "metadata": {},
   "outputs": [],
   "source": []
  },
  {
   "cell_type": "code",
   "execution_count": 91,
   "metadata": {},
   "outputs": [],
   "source": [
    "PATH = '/Users/lucmaingard/Dropbox/work/projects/solar/data/processed_stats/'\n",
    "\n",
    "# Save as JSON file\n",
    "if not os.path.exists(PATH):\n",
    "    \n",
    "    # if the demo_folder directory is not present \n",
    "    # then create it.\n",
    "    os.makedirs(PATH)\n",
    "\n",
    "df = pd.DataFrame(columns=['mae', 'mse', 'rmse'], data=[[mae, mse, rmse]])\n",
    "df.to_csv(PATH+'best_model_scores.csv')"
   ]
  },
  {
   "cell_type": "code",
   "execution_count": 93,
   "metadata": {},
   "outputs": [
    {
     "data": {
      "text/plain": [
       "array([848.56466561])"
      ]
     },
     "execution_count": 93,
     "metadata": {},
     "output_type": "execute_result"
    }
   ],
   "source": [
    "# read scores for new model train analysis\n",
    "rmse = pd.read_csv('/Users/lucmaingard/Dropbox/work/projects/solar/data/processed_stats/best_model_scores.csv')['rmse'].values\n",
    "rmse"
   ]
  },
  {
   "cell_type": "code",
   "execution_count": 56,
   "metadata": {},
   "outputs": [
    {
     "data": {
      "text/plain": [
       "'/Users/lucmaingard/Dropbox/work/projects/solar/notebooks'"
      ]
     },
     "execution_count": 56,
     "metadata": {},
     "output_type": "execute_result"
    }
   ],
   "source": [
    "# Import the os module\n",
    "import os\n",
    "\n",
    "# Get the current working directory\n",
    "cwd = os.getcwd()\n",
    "cwd"
   ]
  },
  {
   "cell_type": "code",
   "execution_count": null,
   "metadata": {},
   "outputs": [],
   "source": [
    "xbg_reg = XGBRegressor()\n",
    "\n",
    "xbg_reg.load_model(\"/Users/lucmaingard/Dropbox/work/projects/solar/models/model.json\")"
   ]
  },
  {
   "cell_type": "code",
   "execution_count": 94,
   "metadata": {},
   "outputs": [],
   "source": [
    "model_path = '/Users/lucmaingard/Dropbox/work/projects/solar/models/model.json'\n",
    "\n",
    "# load trained xgb model\n",
    "xgb = XGBRegressor()\n",
    "xgb.load_model(model_path)"
   ]
  },
  {
   "cell_type": "code",
   "execution_count": 95,
   "metadata": {},
   "outputs": [],
   "source": [
    "model"
   ]
  },
  {
   "cell_type": "code",
   "execution_count": 45,
   "metadata": {},
   "outputs": [],
   "source": [
    "# Third party imports\n",
    "from pydantic import BaseModel\n",
    "from fastapi import Request\n",
    "\n",
    "# Input for data validation\n",
    "class Input(BaseModel):\n",
    "    hour: int\n",
    "    minute: int\n",
    "    ambient_temperature: float\n",
    "    module_temperature: float\n",
    "    irradiation: float\n",
    "    dc_power: int \n",
    "\n",
    "\n",
    "\n",
    "@app.get('/info')\n",
    "async def model_info():\n",
    "    \"\"\"Return model information, version, how to call\"\"\"\n",
    "    return {\n",
    "        \"name\": 'DC Power Generation Predictor',\n",
    "        \"version\": 'v1'\n",
    "    }\n",
    "\n",
    "@app.post(\"/items\")\n",
    "async def create_item(request: Request):\n",
    "\n",
    "    test = pd.json_normalize(request.json())\n",
    "    \n",
    "    return test['ambient_temperature']\n",
    "\n",
    "\n",
    "@app.post(\"/items/\")\n",
    "async def create_item(request: Request):\n",
    "    \n",
    "    return request['ambient_temperature']\n",
    "\n",
    "\n",
    "@app.get('/health')\n",
    "async def service_health():\n",
    "    \"\"\"Return service health\"\"\"\n",
    "    return {\n",
    "        \"ok\"\n",
    "    }\n",
    "\n",
    "@app.get('/train')\n",
    "async def service_health():\n",
    "    \"\"\"Trigger model retraining\"\"\"\n",
    "    return {\n",
    "        \"ok\"\n",
    "    }\n",
    "\n",
    "@app.get('/{x1}/{x2}/{x3}/{x4}/{x5}/predict')\n",
    "async def model_predict(x1:int, x2:int, x3:float, x4:float, x5:float):\n",
    "    \"\"\"Predict with input\"\"\"\n",
    "    l1 = [x1, x2, x3, x4,x5]\n",
    "\n",
    "    x = pd.DataFrame(columns=['hour', 'minute', 'ambient_temperature', 'module_temperature', 'irradiation'],data=[l1])\n",
    "\n",
    "    pred = xgb.predict(x)\n",
    "    dict_out = {}\n",
    "    for count, value in enumerate(pred):\n",
    "        dict_out['expected_dc_power'] = float(value)\n",
    "    '''input_object = input.dict()\n",
    "    response = get_model_response(input_object, xgb, mae)'''\n",
    "    return dict_out\n",
    "\n",
    "\n"
   ]
  },
  {
   "cell_type": "code",
   "execution_count": 46,
   "metadata": {},
   "outputs": [
    {
     "name": "stdout",
     "output_type": "stream",
     "text": [
      "[5377.5244]\n"
     ]
    },
    {
     "data": {
      "text/plain": [
       "{'count': 5377.5244140625}"
      ]
     },
     "execution_count": 46,
     "metadata": {},
     "output_type": "execute_result"
    }
   ],
   "source": [
    "import json \n",
    "\n",
    "l1 = [11, 30, 24.4, 22.4,0.3]\n",
    "x = pd.DataFrame(columns=['hour', 'minute', 'ambient_temperature', 'module_temperature', 'irradiation'],data=[l1])\n",
    "predic = xgb.predict(x)\n",
    "print(predic)\n",
    "dict_out = {}\n",
    "for count, value in enumerate(predic):\n",
    "    dict_out['count'] = float(value)\n",
    "\n",
    "\n",
    "dict_out\n"
   ]
  },
  {
   "cell_type": "code",
   "execution_count": null,
   "metadata": {},
   "outputs": [
    {
     "data": {
      "text/plain": [
       "{'hour': 11,\n",
       " 'minute': 30,\n",
       " 'ambient_temperature': 24.4,\n",
       " 'module_temperature': 22.4,\n",
       " 'irradiation': 0.3,\n",
       " 'dc_power': 500}"
      ]
     },
     "execution_count": 53,
     "metadata": {},
     "output_type": "execute_result"
    }
   ],
   "source": [
    "test"
   ]
  },
  {
   "cell_type": "code",
   "execution_count": 47,
   "metadata": {},
   "outputs": [
    {
     "data": {
      "text/plain": [
       "5377.5244"
      ]
     },
     "execution_count": 47,
     "metadata": {},
     "output_type": "execute_result"
    }
   ],
   "source": [
    "response = get_model_response(test, xgb, mae)\n",
    "response"
   ]
  },
  {
   "cell_type": "code",
   "execution_count": 48,
   "metadata": {},
   "outputs": [
    {
     "data": {
      "text/plain": [
       "<NgrokTunnel: \"http://42c8-169-0-95-131.ngrok.io\" -> \"http://localhost:8000\">"
      ]
     },
     "execution_count": 48,
     "metadata": {},
     "output_type": "execute_result"
    }
   ],
   "source": [
    "from pyngrok import ngrok\n",
    "\n",
    "ngrok_tunnel = ngrok.connect(8000)\n",
    "\n",
    "ngrok_tunnel"
   ]
  },
  {
   "cell_type": "code",
   "execution_count": 49,
   "metadata": {},
   "outputs": [
    {
     "name": "stderr",
     "output_type": "stream",
     "text": [
      "INFO:     Started server process [18002]\n",
      "INFO:     Waiting for application startup.\n",
      "INFO:     Application startup complete.\n",
      "INFO:     Uvicorn running on http://127.0.0.1:8000 (Press CTRL+C to quit)\n"
     ]
    },
    {
     "name": "stdout",
     "output_type": "stream",
     "text": [
      "INFO:     127.0.0.1:51536 - \"GET /11/30/24.2/22.2/0.3/predict HTTP/1.1\" 200 OK\n"
     ]
    },
    {
     "name": "stderr",
     "output_type": "stream",
     "text": [
      "INFO:     Shutting down\n",
      "INFO:     Waiting for application shutdown.\n",
      "INFO:     Application shutdown complete.\n",
      "INFO:     Finished server process [18002]\n"
     ]
    }
   ],
   "source": [
    "import nest_asyncio\n",
    "import uvicorn\n",
    "\n",
    "nest_asyncio.apply()\n",
    "uvicorn.run(app, port=8000)"
   ]
  },
  {
   "cell_type": "code",
   "execution_count": null,
   "metadata": {},
   "outputs": [
    {
     "data": {
      "text/plain": [
       "{'hour': 11,\n",
       " 'minute': 30,\n",
       " 'ambient_temperature': 24.4,\n",
       " 'module_temperature': 22.4,\n",
       " 'irradiation': 0.3,\n",
       " 'dc_power': 500}"
      ]
     },
     "execution_count": 163,
     "metadata": {},
     "output_type": "execute_result"
    }
   ],
   "source": [
    "test"
   ]
  }
 ],
 "metadata": {
  "kernelspec": {
   "display_name": "Python 3.9.15 ('fast_api')",
   "language": "python",
   "name": "python3"
  },
  "language_info": {
   "codemirror_mode": {
    "name": "ipython",
    "version": 3
   },
   "file_extension": ".py",
   "mimetype": "text/x-python",
   "name": "python",
   "nbconvert_exporter": "python",
   "pygments_lexer": "ipython3",
   "version": "3.9.15"
  },
  "orig_nbformat": 4,
  "vscode": {
   "interpreter": {
    "hash": "8bf0d7f014199c2ca73f453c76845b1a6d60ab37ce291cf5b5e33297772613ad"
   }
  }
 },
 "nbformat": 4,
 "nbformat_minor": 2
}
