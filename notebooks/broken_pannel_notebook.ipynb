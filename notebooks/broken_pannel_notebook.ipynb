{
 "cells": [
  {
   "cell_type": "code",
   "execution_count": 4,
   "metadata": {},
   "outputs": [
    {
     "data": {
      "text/plain": [
       "{'expected_dc_power': 5000.0,\n",
       " 'result': 'low dc power output: needs maintenance'}"
      ]
     },
     "execution_count": 4,
     "metadata": {},
     "output_type": "execute_result"
    }
   ],
   "source": [
    "# if irradiation levels are above 0 (below = no power output)\n",
    "x5=0.9\n",
    "x6=4500\n",
    "dict_out={}\n",
    "if x5>0:\n",
    "\n",
    "    mae = 300\n",
    "\n",
    "    pred = 5000\n",
    "\n",
    "    dict_out['expected_dc_power'] = float(pred)\n",
    "\n",
    "    if (float(pred)-mae)>=(x6):\n",
    "        dict_out['result']='low dc power output: needs maintenance'\n",
    "    else:\n",
    "        dict_out['result']='normal dc power output: working well'\n",
    "\n",
    "else:\n",
    "    dict_out['expected_dc_power'] = float(0.0)\n",
    "    dict_out['result']='normal dc power output: working well'\n",
    "\n",
    "dict_out"
   ]
  },
  {
   "cell_type": "code",
   "execution_count": null,
   "metadata": {},
   "outputs": [],
   "source": []
  }
 ],
 "metadata": {
  "kernelspec": {
   "display_name": "Python 3.8.9 64-bit",
   "language": "python",
   "name": "python3"
  },
  "language_info": {
   "codemirror_mode": {
    "name": "ipython",
    "version": 3
   },
   "file_extension": ".py",
   "mimetype": "text/x-python",
   "name": "python",
   "nbconvert_exporter": "python",
   "pygments_lexer": "ipython3",
   "version": "3.8.9"
  },
  "orig_nbformat": 4,
  "vscode": {
   "interpreter": {
    "hash": "31f2aee4e71d21fbe5cf8b01ff0e069b9275f58929596ceb00d14d90e3e16cd6"
   }
  }
 },
 "nbformat": 4,
 "nbformat_minor": 2
}
